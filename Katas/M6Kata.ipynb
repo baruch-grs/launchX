{
 "cells": [
  {
   "cell_type": "markdown",
   "metadata": {},
   "source": [
    "### Listas con planetas"
   ]
  },
  {
   "cell_type": "code",
   "execution_count": 7,
   "metadata": {},
   "outputs": [
    {
     "name": "stdout",
     "output_type": "stream",
     "text": [
      "Lista en sí misma:  ['Mercury', 'Venus', 'Earth', 'Mars', 'Jupiter', 'Saturn', 'Uranus', 'Neptune']\n",
      "Tamaño de la lista:  8\n",
      "Lista con Plutón añadido:  ['Mercury', 'Venus', 'Earth', 'Mars', 'Jupiter', 'Saturn', 'Uranus', 'Neptune', 'Pluton']\n",
      "Último elemento añadido:  Pluton\n"
     ]
    }
   ],
   "source": [
    "planets = ['Mercury', 'Venus', 'Earth', 'Mars', 'Jupiter', 'Saturn', 'Uranus', 'Neptune']\n",
    "print('Lista en sí misma: ', planets)\n",
    "\n",
    "print('Tamaño de la lista: ', len(planets))\n",
    "planets.append('Pluton')\n",
    "\n",
    "print('Lista con Plutón añadido: ', planets)\n",
    "print('Último elemento añadido: ', planets[-1])\n"
   ]
  },
  {
   "cell_type": "markdown",
   "metadata": {},
   "source": [
    "### Trabajando con datos de la lista"
   ]
  },
  {
   "cell_type": "code",
   "execution_count": 9,
   "metadata": {},
   "outputs": [
    {
     "name": "stdout",
     "output_type": "stream",
     "text": [
      "Planetas más cercanos al sol ['Mercury', 'Venus', 'Earth', 'Mars', 'Jupiter', 'Saturn']\n",
      "Planetas más alejados del sol ['Uranus', 'Neptune']\n"
     ]
    }
   ],
   "source": [
    "planets = ['Mercury', 'Venus', 'Earth', 'Mars', 'Jupiter', 'Saturn', 'Uranus', 'Neptune']\n",
    "user_planet = input('Ingrese un planeta con la primer letra en mayúscula')\n",
    "\n",
    "planet_index = planets.index(user_planet) + 1\n",
    "print('Planetas más cercanos al sol', planets[0:planet_index])\n",
    "\n",
    "print('Planetas más alejados del sol', planets[planet_index:len(planets)])"
   ]
  }
 ],
 "metadata": {
  "interpreter": {
   "hash": "75d87aa8fcb77508ce51b005713ea10187080e684961cd463383f364ef8587b9"
  },
  "kernelspec": {
   "display_name": "Python 3.10.2 64-bit",
   "language": "python",
   "name": "python3"
  },
  "language_info": {
   "codemirror_mode": {
    "name": "ipython",
    "version": 3
   },
   "file_extension": ".py",
   "mimetype": "text/x-python",
   "name": "python",
   "nbconvert_exporter": "python",
   "pygments_lexer": "ipython3",
   "version": "3.10.2"
  },
  "orig_nbformat": 4
 },
 "nbformat": 4,
 "nbformat_minor": 2
}

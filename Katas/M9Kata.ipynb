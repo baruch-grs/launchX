{
 "cells": [
  {
   "cell_type": "markdown",
   "metadata": {},
   "source": [
    "## Modulo 9 Kata. Trabajando con funciones. Generador de reporte y promedio de combustible"
   ]
  },
  {
   "cell_type": "code",
   "execution_count": 10,
   "metadata": {},
   "outputs": [
    {
     "name": "stdout",
     "output_type": "stream",
     "text": [
      "\n",
      "    Estos son los status de cada uno de los tanques de combustible\n",
      "    El promedio de capacidad de los tanques es: 78.66666666666667\n",
      "    Tanque 1: 90\n",
      "    Tanque 2: 80\n",
      "    Tanque 3: 66\n",
      "  \n"
     ]
    }
   ],
   "source": [
    "def fuel_report(tank1, tank2, tank3):\n",
    "  return f\"\"\"\n",
    "    Estos son los status de cada uno de los tanques de combustible\n",
    "    El promedio de capacidad de los tanques es: {average_fuel(tank1, tank2, tank3)}\n",
    "    Tanque 1: {tank1}\n",
    "    Tanque 2: {tank2}\n",
    "    Tanque 3: {tank3}\n",
    "  \"\"\"\n",
    "\n",
    "def average_fuel(tank1, tank2, tank3): \n",
    "  return (tank1 + tank2 + tank3) / 3\n",
    "\n",
    "print(fuel_report(90, 80, 66))"
   ]
  },
  {
   "cell_type": "markdown",
   "metadata": {},
   "source": [
    "## Ejercicio 2. Argumentos de palabra clave."
   ]
  },
  {
   "cell_type": "code",
   "execution_count": 11,
   "metadata": {},
   "outputs": [
    {
     "name": "stdout",
     "output_type": "stream",
     "text": [
      "\n",
      "    La hora de prelanzamiento es: 14\n",
      "    El tiempo de vuelo es: 51\n",
      "    Total de tiempo en viaje: 65\n",
      "    El destino de la nave: Moon\n",
      "    Valor del tanque externo: 200000\n",
      "    Valor del tanque interno: 300000\n",
      "    Combustible restante: 500000\n",
      "  \n"
     ]
    }
   ],
   "source": [
    "def mission_report(prelaunch_hour, fly_time, destiny, external_tank, intern_tank):\n",
    "  return f\"\"\"\n",
    "    La hora de prelanzamiento es: {prelaunch_hour}\n",
    "    El tiempo de vuelo es: {fly_time}\n",
    "    Total de tiempo en viaje: {fly_time + prelaunch_hour}\n",
    "    El destino de la nave: {destiny}\n",
    "    Valor del tanque externo: {external_tank}\n",
    "    Valor del tanque interno: {intern_tank}\n",
    "    Combustible restante: {external_tank + intern_tank}\n",
    "  \"\"\"\n",
    "\n",
    "print(mission_report(14, 51, \"Moon\", 200000, 300000))\n"
   ]
  },
  {
   "cell_type": "markdown",
   "metadata": {},
   "source": [
    "## Optimizando la función. Ej. 2"
   ]
  },
  {
   "cell_type": "code",
   "execution_count": 12,
   "metadata": {},
   "outputs": [
    {
     "name": "stdout",
     "output_type": "stream",
     "text": [
      "\n",
      "    El destino de la misión es: Moon\n",
      "    Tiempo total del viaje: 74\n",
      "    Combustible restante: 500000\n",
      "  \n"
     ]
    }
   ],
   "source": [
    "def mission_report(destiny, *time, **fuel_reservoirs):\n",
    "  return f\"\"\"\n",
    "    El destino de la misión es: {destiny}\n",
    "    Tiempo total del viaje: {sum(time)}\n",
    "    Combustible restante: {sum(fuel_reservoirs.values())}\n",
    "  \"\"\"\n",
    "\n",
    "print(mission_report(\"Moon\", 8, 11, 55, main=300000, external=200000))"
   ]
  }
 ],
 "metadata": {
  "interpreter": {
   "hash": "e7370f93d1d0cde622a1f8e1c04877d8463912d04d973331ad4851f04de6915a"
  },
  "kernelspec": {
   "display_name": "Python 3.10.2 64-bit",
   "language": "python",
   "name": "python3"
  },
  "language_info": {
   "codemirror_mode": {
    "name": "ipython",
    "version": 3
   },
   "file_extension": ".py",
   "mimetype": "text/x-python",
   "name": "python",
   "nbconvert_exporter": "python",
   "pygments_lexer": "ipython3",
   "version": "3.10.2"
  },
  "orig_nbformat": 4
 },
 "nbformat": 4,
 "nbformat_minor": 2
}

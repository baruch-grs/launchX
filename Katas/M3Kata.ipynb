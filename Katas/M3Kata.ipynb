{
 "cells": [
  {
   "cell_type": "markdown",
   "metadata": {},
   "source": [
    "# Programa para enviar alertas de asteroides"
   ]
  },
  {
   "cell_type": "markdown",
   "metadata": {},
   "source": [
    "### Se acerca un asteroide a una velocidad de 49km/s\n"
   ]
  },
  {
   "cell_type": "code",
   "execution_count": 2,
   "metadata": {},
   "outputs": [
    {
     "name": "stdout",
     "output_type": "stream",
     "text": [
      "ALERTA, ASTEROIDE APROXIMÁNDOSE\n"
     ]
    }
   ],
   "source": [
    "asteroid_speed = 49\n",
    "if asteroid_speed >= 25:\n",
    "  print('ALERTA, ASTEROIDE APROXIMÁNDOSE')\n",
    "else:\n",
    "  print('El asteroide no representa amenaza')"
   ]
  },
  {
   "cell_type": "markdown",
   "metadata": {},
   "source": [
    "### Se acerca un asteroide a velocidad de 19km/s"
   ]
  },
  {
   "cell_type": "code",
   "execution_count": 3,
   "metadata": {},
   "outputs": [
    {
     "name": "stdout",
     "output_type": "stream",
     "text": [
      "No hay peligro observable\n"
     ]
    }
   ],
   "source": [
    "asteroid_speed = 19\n",
    "if asteroid_speed >= 20:\n",
    "  print('Asteroide iluminando el cielo!')\n",
    "else:\n",
    "  print('No hay peligro observable')"
   ]
  },
  {
   "cell_type": "markdown",
   "metadata": {},
   "source": [
    "### Mejorando el programa\n"
   ]
  },
  {
   "cell_type": "code",
   "execution_count": 4,
   "metadata": {},
   "outputs": [
    {
     "name": "stdout",
     "output_type": "stream",
     "text": [
      "ALERTA DE ASTEROIDE, CATÁSTROFE INMINENTE\n"
     ]
    }
   ],
   "source": [
    "asteroid_speed = 49\n",
    "asteroid_size = 30\n",
    "\n",
    "if asteroid_speed >= 25 and asteroid_size >= 25:\n",
    "  print('ALERTA DE ASTEROIDE, CATÁSTROFE INMINENTE')\n",
    "elif asteroid_size < 25 or asteroid_speed < 25:\n",
    "  print('Hay luces en el cielo!')\n",
    "else:\n",
    "  print('No hay peligro detectable')"
   ]
  }
 ],
 "metadata": {
  "interpreter": {
   "hash": "75d87aa8fcb77508ce51b005713ea10187080e684961cd463383f364ef8587b9"
  },
  "kernelspec": {
   "display_name": "Python 3.10.2 64-bit",
   "language": "python",
   "name": "python3"
  },
  "language_info": {
   "codemirror_mode": {
    "name": "ipython",
    "version": 3
   },
   "file_extension": ".py",
   "mimetype": "text/x-python",
   "name": "python",
   "nbconvert_exporter": "python",
   "pygments_lexer": "ipython3",
   "version": "3.10.2"
  },
  "orig_nbformat": 4
 },
 "nbformat": 4,
 "nbformat_minor": 2
}

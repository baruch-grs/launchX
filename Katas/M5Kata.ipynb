{
 "cells": [
  {
   "cell_type": "markdown",
   "metadata": {},
   "source": [
    "## Distancia entre planetas"
   ]
  },
  {
   "cell_type": "code",
   "execution_count": 9,
   "metadata": {},
   "outputs": [
    {
     "name": "stdout",
     "output_type": "stream",
     "text": [
      "Planet distance from Jupiter to Earth in km:  628949330\n",
      "Planet distance from Jupiter to Earth in miles:  390577533.93\n"
     ]
    }
   ],
   "source": [
    "earth_distance = 149597870\n",
    "jupiter_distance = 778547200 \n",
    "planet_distance = jupiter_distance - earth_distance\n",
    "\n",
    "print('Planet distance from Jupiter to Earth in km: ', planet_distance)\n",
    "print('Planet distance from Jupiter to Earth in miles: ', planet_distance * 0.621)\n",
    "\n",
    "\n"
   ]
  },
  {
   "cell_type": "markdown",
   "metadata": {},
   "source": [
    "## Convertir cadenas a números y uso de valores absolutos "
   ]
  },
  {
   "cell_type": "code",
   "execution_count": 10,
   "metadata": {},
   "outputs": [
    {
     "name": "stdout",
     "output_type": "stream",
     "text": [
      "La distancia en millas es:  2755501200.0\n"
     ]
    }
   ],
   "source": [
    "first_planet_distance = input('Distancia del primer planeta respecto al sol...')\n",
    "second_planet_distance = input('Distancia del segundo planeta respecto al sol ...')\n",
    "first_planet_distance = int(first_planet_distance)\n",
    "second_planet_distance = int(second_planet_distance)\n",
    "\n",
    "planet_distance = abs(second_planet_distance - first_planet_distance )\n",
    "print('La distancia en millas es: ', planet_distance * 0.621)"
   ]
  }
 ],
 "metadata": {
  "interpreter": {
   "hash": "75d87aa8fcb77508ce51b005713ea10187080e684961cd463383f364ef8587b9"
  },
  "kernelspec": {
   "display_name": "Python 3.10.2 64-bit",
   "language": "python",
   "name": "python3"
  },
  "language_info": {
   "codemirror_mode": {
    "name": "ipython",
    "version": 3
   },
   "file_extension": ".py",
   "mimetype": "text/x-python",
   "name": "python",
   "nbconvert_exporter": "python",
   "pygments_lexer": "ipython3",
   "version": "3.10.2"
  },
  "orig_nbformat": 4
 },
 "nbformat": 4,
 "nbformat_minor": 2
}

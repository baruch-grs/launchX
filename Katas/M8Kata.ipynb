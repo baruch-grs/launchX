{
 "cells": [
  {
   "cell_type": "markdown",
   "metadata": {},
   "source": [
    "## Modulo 8 Kata. Datos sobre planetas en diccionarios"
   ]
  },
  {
   "cell_type": "code",
   "execution_count": 23,
   "metadata": {},
   "outputs": [
    {
     "name": "stdout",
     "output_type": "stream",
     "text": [
      "Nombre del planeta Mars y tiene 2 lunas\n",
      "El nombre del planeta es: Mars.\n",
      "Su circunferencia polar es: 6752. \n",
      "Su circunferencia ecuatorial es: 6792.\n"
     ]
    }
   ],
   "source": [
    "planet = {\n",
    "  'name': 'Mars',\n",
    "  'moons': 2,\n",
    "}\n",
    "print(f\"Nombre del planeta {planet.get('name')} y tiene {planet.get('moons')} lunas\")\n",
    "\n",
    "planet.update({\n",
    "  'circumference(km)': {\n",
    "    'polar': 6752,\n",
    "    'equatorial': 6792\n",
    "  }\n",
    "})\n",
    "\n",
    "print(f\"\"\"El nombre del planeta es: {planet.get('name')}.\n",
    "Su circunferencia polar es: {planet['circumference(km)']['polar']}. \n",
    "Su circunferencia ecuatorial es: {planet['circumference(km)']['equatorial']}.\"\"\")\n",
    "\n"
   ]
  },
  {
   "cell_type": "markdown",
   "metadata": {},
   "source": [
    "## Ejercicio 2. Promedio de lunas y total de lunas del sistema solar"
   ]
  },
  {
   "cell_type": "code",
   "execution_count": 24,
   "metadata": {},
   "outputs": [
    {
     "name": "stdout",
     "output_type": "stream",
     "text": [
      "dict_values([0, 0, 1, 2, 79, 82, 27, 14, 5, 2, 1, 1])\n",
      "Lunas totales: 214\n",
      "El número de planetas es: 12\n",
      "Hay en promedio 17.833333333333332 por planeta\n"
     ]
    }
   ],
   "source": [
    "# Planets and moons\n",
    "planet_moons = {\n",
    "  'mercury': 0,\n",
    "  'venus': 0,\n",
    "  'earth': 1,\n",
    "  'mars': 2,\n",
    "  'jupiter': 79,\n",
    "  'saturn': 82,\n",
    "  'uranus': 27,\n",
    "  'neptune': 14,\n",
    "  'pluto': 5,\n",
    "  'haumea': 2,\n",
    "  'makemake': 1,\n",
    "  'eris': 1\n",
    "}\n",
    "\n",
    "moons = planet_moons.values()\n",
    "print(moons)\n",
    "planets = planet_moons.keys()\n",
    "total_moons = 0\n",
    "\n",
    "for moon in moons:\n",
    "  total_moons = total_moons + moon\n",
    "\n",
    "average_moons = total_moons / len(planets)\n",
    "\n",
    "print(f\"Lunas totales: {total_moons}\")\n",
    "print(f\"El número de planetas es: {len(planets)}\")\n",
    "print(f\"Hay en promedio {average_moons} por planeta\")\n",
    "\n"
   ]
  }
 ],
 "metadata": {
  "interpreter": {
   "hash": "e7370f93d1d0cde622a1f8e1c04877d8463912d04d973331ad4851f04de6915a"
  },
  "kernelspec": {
   "display_name": "Python 3.10.2 64-bit",
   "language": "python",
   "name": "python3"
  },
  "language_info": {
   "codemirror_mode": {
    "name": "ipython",
    "version": 3
   },
   "file_extension": ".py",
   "mimetype": "text/x-python",
   "name": "python",
   "nbconvert_exporter": "python",
   "pygments_lexer": "ipython3",
   "version": "3.10.2"
  },
  "orig_nbformat": 4
 },
 "nbformat": 4,
 "nbformat_minor": 2
}

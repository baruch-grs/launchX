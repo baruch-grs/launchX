{
 "cells": [
  {
   "cell_type": "markdown",
   "metadata": {},
   "source": [
    "### Modulo 4 Ejercicio 1. Datos de la luna"
   ]
  },
  {
   "cell_type": "code",
   "execution_count": 1,
   "metadata": {},
   "outputs": [
    {
     "name": "stdout",
     "output_type": "stream",
     "text": [
      "\n",
      "On average, the Moon moves 4cm away from the Earth every year\n"
     ]
    }
   ],
   "source": [
    "text = \"\"\"Interesting facts about the Moon. The Moon is Earth's only satellite. There are several interesting facts about the Moon and how it affects life here on Earth. \n",
    "On average, the Moon moves 4cm away from the Earth every year. This yearly drift is not significant enough to cause immediate effects on\"\"\"\n",
    "splitted_text = text.split('. ')\n",
    "keywords = ['average', 'temperature', 'distance']\n",
    "for phrase in splitted_text:\n",
    "  for word in keywords:\n",
    "    if word in phrase:\n",
    "      print(phrase)\n",
    "      break"
   ]
  },
  {
   "cell_type": "markdown",
   "metadata": {},
   "source": [
    "### Modulo 4 Ejercicio 2. Datos de planetas y sus lunas"
   ]
  },
  {
   "cell_type": "code",
   "execution_count": 2,
   "metadata": {},
   "outputs": [
    {
     "name": "stdout",
     "output_type": "stream",
     "text": [
      "Gravity Facts About Mars\n",
      "--------------------------------------------------\n",
      "\n",
      "  Planet Name: Mars\n",
      "  Gravity on Ganímedes: 1.4300000000000002\n",
      "\n"
     ]
    }
   ],
   "source": [
    "name = 'Ganímedes'\n",
    "gravity = 0.00143\n",
    "planet = 'Mars'\n",
    "\n",
    "print(('gravity facts about ' +  planet).title())\n",
    "print('-'*50)\n",
    "print(\"\"\"\n",
    "  Planet Name: {0}\n",
    "  Gravity on {2}: {1}\n",
    "\"\"\".format(planet, gravity*1000, name))"
   ]
  }
 ],
 "metadata": {
  "interpreter": {
   "hash": "75d87aa8fcb77508ce51b005713ea10187080e684961cd463383f364ef8587b9"
  },
  "kernelspec": {
   "display_name": "Python 3.10.2 64-bit",
   "language": "python",
   "name": "python3"
  },
  "language_info": {
   "codemirror_mode": {
    "name": "ipython",
    "version": 3
   },
   "file_extension": ".py",
   "mimetype": "text/x-python",
   "name": "python",
   "nbconvert_exporter": "python",
   "pygments_lexer": "ipython3",
   "version": "3.10.2"
  },
  "orig_nbformat": 4
 },
 "nbformat": 4,
 "nbformat_minor": 2
}
